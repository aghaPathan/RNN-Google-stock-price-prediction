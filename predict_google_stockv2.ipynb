{
 "cells": [
  {
   "cell_type": "code",
   "execution_count": 2,
   "metadata": {},
   "outputs": [],
   "source": [
    "import numpy as np\n",
    "import matplotlib.pyplot as plt\n",
    "import pandas as pd\n",
    "import math\n",
    "from sklearn.metrics import mean_squared_error"
   ]
  },
  {
   "cell_type": "code",
   "execution_count": 3,
   "metadata": {},
   "outputs": [],
   "source": [
    "# Importing the training set\n",
    "dataset_train = pd.read_csv('Google_Stock_Price_Train.csv')\n",
    "training_set = dataset_train.iloc[:, 1:2].values\n"
   ]
  },
  {
   "cell_type": "code",
   "execution_count": 4,
   "metadata": {},
   "outputs": [],
   "source": [
    "# Feature Scaling\n",
    "from sklearn.preprocessing import MinMaxScaler\n",
    "sc = MinMaxScaler(feature_range = (0, 1))\n",
    "training_set_scaled = sc.fit_transform(training_set)\n"
   ]
  },
  {
   "cell_type": "code",
   "execution_count": 5,
   "metadata": {},
   "outputs": [
    {
     "name": "stdout",
     "output_type": "stream",
     "text": [
      "1138 120\n"
     ]
    }
   ],
   "source": [
    "# Creating a data structure with 60 timesteps and 1 output\n",
    "timesteps = 120\n",
    "X_train = []\n",
    "y_train = []\n",
    "for i in range(timesteps, 1258):\n",
    "    X_train.append(training_set_scaled[i-timesteps:i, 0])\n",
    "    y_train.append(training_set_scaled[i, 0])\n",
    "X_train, y_train = np.array(X_train), np.array(y_train)\n",
    "\n",
    "# Reshaping\n",
    "X_train = np.reshape(X_train, (X_train.shape[0], X_train.shape[1], 1))\n",
    "print(X_train.shape[0], X_train.shape[1])\n"
   ]
  },
  {
   "cell_type": "code",
   "execution_count": 6,
   "metadata": {},
   "outputs": [
    {
     "name": "stderr",
     "output_type": "stream",
     "text": [
      "Using TensorFlow backend.\n"
     ]
    },
    {
     "name": "stdout",
     "output_type": "stream",
     "text": [
      "Epoch 1/100\n",
      "1138/1138 [==============================] - 22s 19ms/step - loss: 0.0532\n",
      "Epoch 2/100\n",
      "1138/1138 [==============================] - 17s 15ms/step - loss: 0.0054\n",
      "Epoch 3/100\n",
      "1138/1138 [==============================] - 29s 25ms/step - loss: 0.0044\n",
      "Epoch 4/100\n",
      "1138/1138 [==============================] - 22s 19ms/step - loss: 0.0046\n",
      "Epoch 5/100\n",
      "1138/1138 [==============================] - 25s 22ms/step - loss: 0.0051\n",
      "Epoch 6/100\n",
      "1138/1138 [==============================] - 20s 17ms/step - loss: 0.0045\n",
      "Epoch 7/100\n",
      "1138/1138 [==============================] - 18s 16ms/step - loss: 0.0041\n",
      "Epoch 8/100\n",
      "1138/1138 [==============================] - 21s 18ms/step - loss: 0.0038\n",
      "Epoch 9/100\n",
      "1138/1138 [==============================] - 18s 15ms/step - loss: 0.0039\n",
      "Epoch 10/100\n",
      "1138/1138 [==============================] - 18s 16ms/step - loss: 0.0040\n",
      "Epoch 11/100\n",
      "1138/1138 [==============================] - 21s 18ms/step - loss: 0.0041\n",
      "Epoch 12/100\n",
      "1138/1138 [==============================] - 20s 18ms/step - loss: 0.0040\n",
      "Epoch 13/100\n",
      "1138/1138 [==============================] - 17s 15ms/step - loss: 0.0034\n",
      "Epoch 14/100\n",
      "1138/1138 [==============================] - 19s 17ms/step - loss: 0.0036\n",
      "Epoch 15/100\n",
      "1138/1138 [==============================] - 16s 14ms/step - loss: 0.0034\n",
      "Epoch 16/100\n",
      "1138/1138 [==============================] - 16s 14ms/step - loss: 0.0038\n",
      "Epoch 17/100\n",
      "1138/1138 [==============================] - 16s 14ms/step - loss: 0.0033\n",
      "Epoch 18/100\n",
      "1138/1138 [==============================] - 16s 14ms/step - loss: 0.0033\n",
      "Epoch 19/100\n",
      "1138/1138 [==============================] - 16s 14ms/step - loss: 0.0032\n",
      "Epoch 20/100\n",
      "1138/1138 [==============================] - 19s 16ms/step - loss: 0.0036\n",
      "Epoch 21/100\n",
      "1138/1138 [==============================] - 16s 14ms/step - loss: 0.0039\n",
      "Epoch 22/100\n",
      "1138/1138 [==============================] - 16s 14ms/step - loss: 0.0034\n",
      "Epoch 23/100\n",
      "1138/1138 [==============================] - 16s 14ms/step - loss: 0.0029\n",
      "Epoch 24/100\n",
      "1138/1138 [==============================] - 16s 14ms/step - loss: 0.0034\n",
      "Epoch 25/100\n",
      "1138/1138 [==============================] - 16s 14ms/step - loss: 0.0033\n",
      "Epoch 26/100\n",
      "1138/1138 [==============================] - 17s 15ms/step - loss: 0.0028\n",
      "Epoch 27/100\n",
      "1138/1138 [==============================] - 17s 15ms/step - loss: 0.0027\n",
      "Epoch 28/100\n",
      "1138/1138 [==============================] - 24s 21ms/step - loss: 0.0030\n",
      "Epoch 29/100\n",
      "1138/1138 [==============================] - 24s 22ms/step - loss: 0.0028\n",
      "Epoch 30/100\n",
      "1138/1138 [==============================] - 19s 17ms/step - loss: 0.0026\n",
      "Epoch 31/100\n",
      "1138/1138 [==============================] - 19s 16ms/step - loss: 0.0028\n",
      "Epoch 32/100\n",
      "1138/1138 [==============================] - 21s 18ms/step - loss: 0.0026\n",
      "Epoch 33/100\n",
      "1138/1138 [==============================] - 16s 14ms/step - loss: 0.0023\n",
      "Epoch 34/100\n",
      "1138/1138 [==============================] - 18s 16ms/step - loss: 0.0026\n",
      "Epoch 35/100\n",
      "1138/1138 [==============================] - 17s 15ms/step - loss: 0.0028\n",
      "Epoch 36/100\n",
      "1138/1138 [==============================] - 18s 16ms/step - loss: 0.0026\n",
      "Epoch 37/100\n",
      "1138/1138 [==============================] - 18s 16ms/step - loss: 0.0025\n",
      "Epoch 38/100\n",
      "1138/1138 [==============================] - 23s 20ms/step - loss: 0.0026\n",
      "Epoch 39/100\n",
      "1138/1138 [==============================] - 19s 16ms/step - loss: 0.0028\n",
      "Epoch 40/100\n",
      "1138/1138 [==============================] - 17s 15ms/step - loss: 0.0029\n",
      "Epoch 41/100\n",
      "1138/1138 [==============================] - 17s 15ms/step - loss: 0.0024\n",
      "Epoch 42/100\n",
      "1138/1138 [==============================] - 16s 14ms/step - loss: 0.0024\n",
      "Epoch 43/100\n",
      "1138/1138 [==============================] - 17s 15ms/step - loss: 0.0023\n",
      "Epoch 44/100\n",
      "1138/1138 [==============================] - 17s 15ms/step - loss: 0.0027\n",
      "Epoch 45/100\n",
      "1138/1138 [==============================] - 16s 14ms/step - loss: 0.0022\n",
      "Epoch 46/100\n",
      "1138/1138 [==============================] - 16s 14ms/step - loss: 0.0023\n",
      "Epoch 47/100\n",
      "1138/1138 [==============================] - 17s 15ms/step - loss: 0.0022\n",
      "Epoch 48/100\n",
      "1138/1138 [==============================] - 18s 16ms/step - loss: 0.0022\n",
      "Epoch 49/100\n",
      "1138/1138 [==============================] - 20s 18ms/step - loss: 0.0022\n",
      "Epoch 50/100\n",
      "1138/1138 [==============================] - 17s 15ms/step - loss: 0.0023\n",
      "Epoch 51/100\n",
      "1138/1138 [==============================] - 17s 15ms/step - loss: 0.0020\n",
      "Epoch 52/100\n",
      "1138/1138 [==============================] - 17s 15ms/step - loss: 0.0022\n",
      "Epoch 53/100\n",
      "1138/1138 [==============================] - 17s 15ms/step - loss: 0.0022\n",
      "Epoch 54/100\n",
      "1138/1138 [==============================] - 17s 15ms/step - loss: 0.0020\n",
      "Epoch 55/100\n",
      "1138/1138 [==============================] - 17s 15ms/step - loss: 0.0020\n",
      "Epoch 56/100\n",
      "1138/1138 [==============================] - 17s 15ms/step - loss: 0.0021\n",
      "Epoch 57/100\n",
      "1138/1138 [==============================] - 18s 16ms/step - loss: 0.0020\n",
      "Epoch 58/100\n",
      "1138/1138 [==============================] - 21s 18ms/step - loss: 0.0018\n",
      "Epoch 59/100\n",
      "1138/1138 [==============================] - 19s 17ms/step - loss: 0.0021\n",
      "Epoch 60/100\n",
      "1138/1138 [==============================] - 23s 20ms/step - loss: 0.0021\n",
      "Epoch 61/100\n",
      "1138/1138 [==============================] - 20s 17ms/step - loss: 0.0022\n",
      "Epoch 62/100\n",
      "1138/1138 [==============================] - 17s 15ms/step - loss: 0.0023\n",
      "Epoch 63/100\n",
      "1138/1138 [==============================] - 17s 15ms/step - loss: 0.0019\n",
      "Epoch 64/100\n",
      "1138/1138 [==============================] - 18s 16ms/step - loss: 0.0020\n",
      "Epoch 65/100\n",
      "1138/1138 [==============================] - 24s 21ms/step - loss: 0.0022\n",
      "Epoch 66/100\n",
      "1138/1138 [==============================] - 17s 15ms/step - loss: 0.0018\n",
      "Epoch 67/100\n",
      "1138/1138 [==============================] - 18s 15ms/step - loss: 0.0017\n",
      "Epoch 68/100\n",
      "1138/1138 [==============================] - 16s 14ms/step - loss: 0.0017\n",
      "Epoch 69/100\n",
      "1138/1138 [==============================] - 16s 14ms/step - loss: 0.0018\n",
      "Epoch 70/100\n",
      "1138/1138 [==============================] - 16s 14ms/step - loss: 0.0018\n",
      "Epoch 71/100\n",
      "1138/1138 [==============================] - 17s 15ms/step - loss: 0.0018\n",
      "Epoch 72/100\n",
      "1138/1138 [==============================] - 16s 14ms/step - loss: 0.0018\n",
      "Epoch 73/100\n",
      "1138/1138 [==============================] - 16s 14ms/step - loss: 0.0015\n",
      "Epoch 74/100\n",
      "1138/1138 [==============================] - 17s 15ms/step - loss: 0.0017\n",
      "Epoch 75/100\n",
      "1138/1138 [==============================] - 16s 14ms/step - loss: 0.0017\n",
      "Epoch 76/100\n",
      "1138/1138 [==============================] - 16s 14ms/step - loss: 0.0018\n",
      "Epoch 77/100\n",
      "1138/1138 [==============================] - 17s 15ms/step - loss: 0.0016\n",
      "Epoch 78/100\n",
      "1138/1138 [==============================] - 16s 14ms/step - loss: 0.0016\n",
      "Epoch 79/100\n",
      "1138/1138 [==============================] - 16s 14ms/step - loss: 0.0017\n",
      "Epoch 80/100\n",
      "1138/1138 [==============================] - 16s 14ms/step - loss: 0.0017\n",
      "Epoch 81/100\n",
      "1138/1138 [==============================] - 16s 14ms/step - loss: 0.0017\n",
      "Epoch 82/100\n",
      "1138/1138 [==============================] - 16s 14ms/step - loss: 0.0015\n",
      "Epoch 83/100\n",
      "1138/1138 [==============================] - 16s 14ms/step - loss: 0.0015\n",
      "Epoch 84/100\n",
      "1138/1138 [==============================] - 16s 14ms/step - loss: 0.0014\n",
      "Epoch 85/100\n",
      "1138/1138 [==============================] - 16s 14ms/step - loss: 0.0013\n",
      "Epoch 86/100\n",
      "1138/1138 [==============================] - 18s 15ms/step - loss: 0.0015\n",
      "Epoch 87/100\n",
      "1138/1138 [==============================] - 17s 15ms/step - loss: 0.0014\n",
      "Epoch 88/100\n",
      "1138/1138 [==============================] - 17s 15ms/step - loss: 0.0014\n",
      "Epoch 89/100\n",
      "1138/1138 [==============================] - 17s 15ms/step - loss: 0.0017\n",
      "Epoch 90/100\n",
      "1138/1138 [==============================] - 30s 27ms/step - loss: 0.0015\n",
      "Epoch 91/100\n",
      "1138/1138 [==============================] - 32s 28ms/step - loss: 0.0015\n",
      "Epoch 92/100\n",
      "1138/1138 [==============================] - 27s 24ms/step - loss: 0.0014\n",
      "Epoch 93/100\n",
      "1138/1138 [==============================] - 19s 16ms/step - loss: 0.0014\n",
      "Epoch 94/100\n",
      "1138/1138 [==============================] - 17s 15ms/step - loss: 0.0014\n",
      "Epoch 95/100\n"
     ]
    },
    {
     "name": "stdout",
     "output_type": "stream",
     "text": [
      "1138/1138 [==============================] - 16s 14ms/step - loss: 0.0014\n",
      "Epoch 96/100\n",
      "1138/1138 [==============================] - 16s 14ms/step - loss: 0.0015\n",
      "Epoch 97/100\n",
      "1138/1138 [==============================] - 16s 14ms/step - loss: 0.0014\n",
      "Epoch 98/100\n",
      "1138/1138 [==============================] - 16s 14ms/step - loss: 0.0015\n",
      "Epoch 99/100\n",
      "1138/1138 [==============================] - 16s 14ms/step - loss: 0.0014\n",
      "Epoch 100/100\n",
      "1138/1138 [==============================] - 17s 15ms/step - loss: 0.0014\n"
     ]
    },
    {
     "data": {
      "text/plain": [
       "<keras.callbacks.History at 0x7f5b4934c4e0>"
      ]
     },
     "execution_count": 6,
     "metadata": {},
     "output_type": "execute_result"
    }
   ],
   "source": [
    "# Part 2 - Building the RNN\n",
    "\n",
    "# Importing the Keras libraries and packages\n",
    "from keras.models import Sequential\n",
    "from keras.layers import Dense\n",
    "from keras.layers import LSTM\n",
    "from keras.layers import Dropout\n",
    "\n",
    "# Initialising the RNN\n",
    "regressor = Sequential()\n",
    "\n",
    "# Adding the first LSTM layer and some Dropout regularisation\n",
    "regressor.add(LSTM(units = 66, return_sequences = True, input_shape = (X_train.shape[1], 1)))\n",
    "regressor.add(Dropout(0.2))\n",
    "\n",
    "# Adding a second LSTM layer and some Dropout regularisation\n",
    "regressor.add(LSTM(units = 66, return_sequences = True))\n",
    "regressor.add(Dropout(0.2))\n",
    "\n",
    "# Adding a third LSTM layer and some Dropout regularisation\n",
    "regressor.add(LSTM(units = 66, return_sequences = True))\n",
    "regressor.add(Dropout(0.2))\n",
    "\n",
    "# Adding a fourth LSTM layer and some Dropout regularisation\n",
    "regressor.add(LSTM(units = 66))\n",
    "regressor.add(Dropout(0.2))\n",
    "\n",
    "# Adding the output layer\n",
    "regressor.add(Dense(units = 1))\n",
    "\n",
    "# Compiling the RNN\n",
    "regressor.compile(optimizer = 'adam', loss = 'mean_squared_error')\n",
    "\n",
    "# Fitting the RNN to the Training set\n",
    "regressor.fit(X_train, y_train, epochs = 100, batch_size = 32)\n"
   ]
  },
  {
   "cell_type": "code",
   "execution_count": 7,
   "metadata": {},
   "outputs": [
    {
     "name": "stdout",
     "output_type": "stream",
     "text": [
      "120\n"
     ]
    },
    {
     "data": {
      "image/png": "[encoded data removed]",
      "text/plain": [
       "<Figure size 432x288 with 1 Axes>"
      ]
     },
     "metadata": {
      "needs_background": "light"
     },
     "output_type": "display_data"
    }
   ],
   "source": [
    "# Part 3 - Making the predictions and visualising the results\n",
    "\n",
    "# Getting the real stock price of 2017\n",
    "dataset_test = pd.read_csv('Google_Stock_Price_Test.csv')\n",
    "real_stock_price = dataset_test.iloc[:, 1:2].values\n",
    "print(timesteps)\n",
    "# Getting the predicted stock price of 2017\n",
    "dataset_total = pd.concat((dataset_train['Open'], dataset_test['Open']), axis = 0)\n",
    "inputs = dataset_total[len(dataset_total) - len(dataset_test) - timesteps:].values\n",
    "inputs = inputs.reshape(-1,1)\n",
    "inputs = sc.transform(inputs)\n",
    "X_test = []\n",
    "for i in range(timesteps, 140):\n",
    "    X_test.append(inputs[i-timesteps:i, 0])\n",
    "X_test = np.array(X_test)\n",
    "X_test = np.reshape(X_test, (X_test.shape[0], X_test.shape[1], 1))\n",
    "predicted_stock_price = regressor.predict(X_test)\n",
    "predicted_stock_price = sc.inverse_transform(predicted_stock_price)\n",
    "\n",
    "# Visualising the results\n",
    "plt.plot(real_stock_price, color = 'red', label = 'Real Google Stock Price')\n",
    "plt.plot(predicted_stock_price, color = 'blue', label = 'Predicted Google Stock Price')\n",
    "plt.title('Google Stock Price Prediction')\n",
    "plt.xlabel('Time')\n",
    "plt.ylabel('Google Stock Price')\n",
    "plt.legend()\n",
    "plt.show()\n"
   ]
  },
  {
   "cell_type": "code",
   "execution_count": 8,
   "metadata": {},
   "outputs": [
    {
     "name": "stdout",
     "output_type": "stream",
     "text": [
      "14.434752809475132\n"
     ]
    }
   ],
   "source": [
    "# evaluating the model performance with a metric called RMSE (Root Mean Squared Error)\n",
    "rmse = math.sqrt(mean_squared_error(real_stock_price, predicted_stock_price))\n",
    "print(rmse)"
   ]
  },
  {
   "cell_type": "code",
   "execution_count": null,
   "metadata": {},
   "outputs": [],
   "source": []
  }
 ],
 "metadata": {
  "kernelspec": {
   "display_name": "Python 3",
   "language": "python",
   "name": "python3"
  },
  "language_info": {
   "codemirror_mode": {
    "name": "ipython",
    "version": 3
   },
   "file_extension": ".py",
   "mimetype": "text/x-python",
   "name": "python",
   "nbconvert_exporter": "python",
   "pygments_lexer": "ipython3",
   "version": "3.5.5"
  }
 },
 "nbformat": 4,
 "nbformat_minor": 2
}
